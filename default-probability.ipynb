{
 "cells": [
  {
   "cell_type": "code",
   "execution_count": 1,
   "metadata": {},
   "outputs": [
    {
     "data": {
      "text/html": [
       "\n",
       "    <script>\n",
       "      jQuery(\n",
       "        function() {\n",
       "          if (jQuery(\"body.notebook_app\").length == 0) { \n",
       "            jQuery(\".input_area\").toggle();\n",
       "            jQuery(\".prompt\").toggle();\n",
       "          }\n",
       "        }\n",
       "      );\n",
       "    </script>"
      ]
     },
     "metadata": {},
     "output_type": "display_data"
    },
    {
     "data": {
      "text/html": [
       "<button onclick=\"jQuery('.input_area').toggle(); jQuery('.prompt').toggle();\">Toggle code</button>"
      ]
     },
     "metadata": {},
     "output_type": "display_data"
    }
   ],
   "source": [
    "import IPython.core.display as di\n",
    "# This line will hide code by default when the notebook is exported as HTML\n",
    "di.display_html(\n",
    "    '''\n",
    "    <script>\n",
    "      jQuery(\n",
    "        function() {\n",
    "          if (jQuery(\"body.notebook_app\").length == 0) { \n",
    "            jQuery(\".input_area\").toggle();\n",
    "            jQuery(\".prompt\").toggle();\n",
    "          }\n",
    "        }\n",
    "      );\n",
    "    </script>''',\n",
    "    raw=True\n",
    ")\n",
    "# This line will add a button to toggle visibility of code blocks, for use with the HTML export version\n",
    "di.display_html(\n",
    "    '''<button onclick=\"jQuery('.input_area').toggle(); jQuery('.prompt').toggle();\">Toggle code</button>''',\n",
    "    raw=True\n",
    ")"
   ]
  },
  {
   "cell_type": "markdown",
   "metadata": {},
   "source": [
    "# Predicting client default status using continuous and categorical features\n",
    "##  An Extreme Gradient Boost Classification model\n",
    "##### by Antonio E. Amador\n",
    "##### May 5, 2020\n",
    "#  "
   ]
  },
  {
   "cell_type": "markdown",
   "metadata": {},
   "source": [
    "## Summary\n",
    "#### In this excercise, we are required to fit a model to a dataset that contains both continuous and categorical features in order to predict a binary target variable (default).\n",
    "#### This means we will use supervised machine learning algorithms in order to predict our target variable for a training set and test this model using a test set.\n",
    "#### Since our target variable is binary it means this is a classification problem; therefore, we will start implementing very simple Logistic Regression and Random Forest models.\n",
    "#### After defining a metric and evaluating these results, we will move to more complex models that are able to fit the data better and tune the model's parameters to achieve an above 98% performance metric for our training dataset predictions.\n",
    "#### Neural networks are not considered in this excercise since boosting algorithms are better suited for limited training data and time.\n",
    "#### Finally, we will predict the default status and default probability for the validation dataset provided and calculate estimated losses for this set"
   ]
  },
  {
   "cell_type": "markdown",
   "metadata": {},
   "source": [
    "##  \n",
    "##  \n",
    "## Importing libraries"
   ]
  },
  {
   "cell_type": "code",
   "execution_count": 2,
   "metadata": {},
   "outputs": [
    {
     "name": "stderr",
     "output_type": "stream",
     "text": [
      "/opt/anaconda3/lib/python3.7/site-packages/lightgbm/__init__.py:48: UserWarning: Starting from version 2.2.1, the library file in distribution wheels for macOS is built by the Apple Clang (Xcode_8.3.3) compiler.\n",
      "This means that in case of installing LightGBM from PyPI via the ``pip install lightgbm`` command, you don't need to install the gcc compiler anymore.\n",
      "Instead of that, you need to install the OpenMP library, which is required for running LightGBM on the system with the Apple Clang compiler.\n",
      "You can install the OpenMP library by the following command: ``brew install libomp``.\n",
      "  \"You can install the OpenMP library by the following command: ``brew install libomp``.\", UserWarning)\n"
     ]
    }
   ],
   "source": [
    "import pandas as pd\n",
    "\n",
    "import numpy as np\n",
    "\n",
    "import matplotlib.pyplot as plt\n",
    "%matplotlib inline\n",
    "\n",
    "import seaborn as sns\n",
    "\n",
    "from sklearn.model_selection import train_test_split, GridSearchCV\n",
    "from sklearn.pipeline import Pipeline\n",
    "from sklearn.preprocessing import StandardScaler\n",
    "from sklearn.linear_model import LogisticRegression\n",
    "from sklearn.ensemble import RandomForestClassifier\n",
    "from sklearn.metrics import classification_report, confusion_matrix, accuracy_score, recall_score, precision_score\n",
    "\n",
    "from lightgbm import LGBMClassifier\n",
    "\n",
    "from xgboost import XGBClassifier\n",
    "\n",
    "from imblearn.over_sampling import RandomOverSampler"
   ]
  },
  {
   "cell_type": "markdown",
   "metadata": {},
   "source": [
    "## Importing data\n",
    "#### Looking at the array's data types"
   ]
  },
  {
   "cell_type": "code",
   "execution_count": 3,
   "metadata": {},
   "outputs": [
    {
     "data": {
      "text/plain": [
       "ID           int64\n",
       "LIMIT_BAL    int64\n",
       "SEX          int64\n",
       "EDUCATION    int64\n",
       "MARRIAGE     int64\n",
       "AGE          int64\n",
       "PAY_0        int64\n",
       "PAY_2        int64\n",
       "PAY_3        int64\n",
       "PAY_4        int64\n",
       "PAY_5        int64\n",
       "PAY_6        int64\n",
       "BILL_AMT1    int64\n",
       "BILL_AMT2    int64\n",
       "BILL_AMT3    int64\n",
       "BILL_AMT4    int64\n",
       "BILL_AMT5    int64\n",
       "BILL_AMT6    int64\n",
       "PAY_AMT1     int64\n",
       "PAY_AMT2     int64\n",
       "PAY_AMT3     int64\n",
       "PAY_AMT4     int64\n",
       "PAY_AMT5     int64\n",
       "PAY_AMT6     int64\n",
       "default      int64\n",
       "dtype: object"
      ]
     },
     "execution_count": 3,
     "metadata": {},
     "output_type": "execute_result"
    }
   ],
   "source": [
    "df = pd.read_csv(\"default_dataset.csv\")\n",
    "df.dtypes"
   ]
  },
  {
   "cell_type": "markdown",
   "metadata": {},
   "source": [
    "## Looking at  the data\n",
    "#### Take a closer look at \"Categories\""
   ]
  },
  {
   "cell_type": "code",
   "execution_count": 4,
   "metadata": {},
   "outputs": [
    {
     "data": {
      "text/plain": [
       "ID           0\n",
       "LIMIT_BAL    0\n",
       "SEX          0\n",
       "EDUCATION    0\n",
       "MARRIAGE     0\n",
       "AGE          0\n",
       "PAY_0        0\n",
       "PAY_2        0\n",
       "PAY_3        0\n",
       "PAY_4        0\n",
       "PAY_5        0\n",
       "PAY_6        0\n",
       "BILL_AMT1    0\n",
       "BILL_AMT2    0\n",
       "BILL_AMT3    0\n",
       "BILL_AMT4    0\n",
       "BILL_AMT5    0\n",
       "BILL_AMT6    0\n",
       "PAY_AMT1     0\n",
       "PAY_AMT2     0\n",
       "PAY_AMT3     0\n",
       "PAY_AMT4     0\n",
       "PAY_AMT5     0\n",
       "PAY_AMT6     0\n",
       "default      0\n",
       "dtype: int64"
      ]
     },
     "execution_count": 4,
     "metadata": {},
     "output_type": "execute_result"
    }
   ],
   "source": [
    "df.isna().sum()"
   ]
  },
  {
   "cell_type": "code",
   "execution_count": 5,
   "metadata": {},
   "outputs": [
    {
     "data": {
      "text/html": [
       "<div>\n",
       "<style scoped>\n",
       "    .dataframe tbody tr th:only-of-type {\n",
       "        vertical-align: middle;\n",
       "    }\n",
       "\n",
       "    .dataframe tbody tr th {\n",
       "        vertical-align: top;\n",
       "    }\n",
       "\n",
       "    .dataframe thead th {\n",
       "        text-align: right;\n",
       "    }\n",
       "</style>\n",
       "<table border=\"1\" class=\"dataframe\">\n",
       "  <thead>\n",
       "    <tr style=\"text-align: right;\">\n",
       "      <th></th>\n",
       "      <th>ID</th>\n",
       "      <th>LIMIT_BAL</th>\n",
       "      <th>SEX</th>\n",
       "      <th>EDUCATION</th>\n",
       "      <th>MARRIAGE</th>\n",
       "      <th>AGE</th>\n",
       "      <th>PAY_0</th>\n",
       "      <th>PAY_2</th>\n",
       "      <th>PAY_3</th>\n",
       "      <th>PAY_4</th>\n",
       "      <th>...</th>\n",
       "      <th>BILL_AMT4</th>\n",
       "      <th>BILL_AMT5</th>\n",
       "      <th>BILL_AMT6</th>\n",
       "      <th>PAY_AMT1</th>\n",
       "      <th>PAY_AMT2</th>\n",
       "      <th>PAY_AMT3</th>\n",
       "      <th>PAY_AMT4</th>\n",
       "      <th>PAY_AMT5</th>\n",
       "      <th>PAY_AMT6</th>\n",
       "      <th>default</th>\n",
       "    </tr>\n",
       "  </thead>\n",
       "  <tbody>\n",
       "    <tr>\n",
       "      <th>count</th>\n",
       "      <td>27999.000000</td>\n",
       "      <td>27999.000000</td>\n",
       "      <td>27999.000000</td>\n",
       "      <td>27999.000000</td>\n",
       "      <td>27999.000000</td>\n",
       "      <td>27999.000000</td>\n",
       "      <td>27999.000000</td>\n",
       "      <td>27999.000000</td>\n",
       "      <td>27999.000000</td>\n",
       "      <td>27999.000000</td>\n",
       "      <td>...</td>\n",
       "      <td>27999.000000</td>\n",
       "      <td>27999.000000</td>\n",
       "      <td>27999.000000</td>\n",
       "      <td>27999.000000</td>\n",
       "      <td>2.799900e+04</td>\n",
       "      <td>27999.000000</td>\n",
       "      <td>27999.000000</td>\n",
       "      <td>27999.000000</td>\n",
       "      <td>27999.000000</td>\n",
       "      <td>27999.000000</td>\n",
       "    </tr>\n",
       "    <tr>\n",
       "      <th>mean</th>\n",
       "      <td>15749.304368</td>\n",
       "      <td>169647.833137</td>\n",
       "      <td>1.607522</td>\n",
       "      <td>1.853888</td>\n",
       "      <td>1.552484</td>\n",
       "      <td>35.484696</td>\n",
       "      <td>-0.063324</td>\n",
       "      <td>-0.169327</td>\n",
       "      <td>-0.201900</td>\n",
       "      <td>-0.248009</td>\n",
       "      <td>...</td>\n",
       "      <td>43501.129397</td>\n",
       "      <td>40427.848780</td>\n",
       "      <td>38988.426658</td>\n",
       "      <td>5823.589878</td>\n",
       "      <td>6.107637e+03</td>\n",
       "      <td>5383.826137</td>\n",
       "      <td>4951.663381</td>\n",
       "      <td>4878.592700</td>\n",
       "      <td>5342.790350</td>\n",
       "      <td>0.165613</td>\n",
       "    </tr>\n",
       "    <tr>\n",
       "      <th>std</th>\n",
       "      <td>8452.091410</td>\n",
       "      <td>130240.416104</td>\n",
       "      <td>0.488311</td>\n",
       "      <td>0.795310</td>\n",
       "      <td>0.521850</td>\n",
       "      <td>9.168462</td>\n",
       "      <td>1.088628</td>\n",
       "      <td>1.162094</td>\n",
       "      <td>1.158822</td>\n",
       "      <td>1.139461</td>\n",
       "      <td>...</td>\n",
       "      <td>64547.035637</td>\n",
       "      <td>60932.675754</td>\n",
       "      <td>59691.059489</td>\n",
       "      <td>16926.065931</td>\n",
       "      <td>2.362333e+04</td>\n",
       "      <td>17997.627313</td>\n",
       "      <td>16023.404493</td>\n",
       "      <td>15329.242967</td>\n",
       "      <td>17990.023991</td>\n",
       "      <td>0.371740</td>\n",
       "    </tr>\n",
       "    <tr>\n",
       "      <th>min</th>\n",
       "      <td>3.000000</td>\n",
       "      <td>10000.000000</td>\n",
       "      <td>1.000000</td>\n",
       "      <td>0.000000</td>\n",
       "      <td>0.000000</td>\n",
       "      <td>21.000000</td>\n",
       "      <td>-2.000000</td>\n",
       "      <td>-2.000000</td>\n",
       "      <td>-2.000000</td>\n",
       "      <td>-2.000000</td>\n",
       "      <td>...</td>\n",
       "      <td>-170000.000000</td>\n",
       "      <td>-81334.000000</td>\n",
       "      <td>-209051.000000</td>\n",
       "      <td>0.000000</td>\n",
       "      <td>0.000000e+00</td>\n",
       "      <td>0.000000</td>\n",
       "      <td>0.000000</td>\n",
       "      <td>0.000000</td>\n",
       "      <td>0.000000</td>\n",
       "      <td>0.000000</td>\n",
       "    </tr>\n",
       "    <tr>\n",
       "      <th>25%</th>\n",
       "      <td>8999.500000</td>\n",
       "      <td>60000.000000</td>\n",
       "      <td>1.000000</td>\n",
       "      <td>1.000000</td>\n",
       "      <td>1.000000</td>\n",
       "      <td>28.000000</td>\n",
       "      <td>-1.000000</td>\n",
       "      <td>-1.000000</td>\n",
       "      <td>-1.000000</td>\n",
       "      <td>-1.000000</td>\n",
       "      <td>...</td>\n",
       "      <td>2373.000000</td>\n",
       "      <td>1809.000000</td>\n",
       "      <td>1278.000000</td>\n",
       "      <td>1000.000000</td>\n",
       "      <td>1.000000e+03</td>\n",
       "      <td>457.000000</td>\n",
       "      <td>316.000000</td>\n",
       "      <td>298.500000</td>\n",
       "      <td>188.000000</td>\n",
       "      <td>0.000000</td>\n",
       "    </tr>\n",
       "    <tr>\n",
       "      <th>50%</th>\n",
       "      <td>15999.000000</td>\n",
       "      <td>140000.000000</td>\n",
       "      <td>2.000000</td>\n",
       "      <td>2.000000</td>\n",
       "      <td>2.000000</td>\n",
       "      <td>34.000000</td>\n",
       "      <td>0.000000</td>\n",
       "      <td>0.000000</td>\n",
       "      <td>0.000000</td>\n",
       "      <td>0.000000</td>\n",
       "      <td>...</td>\n",
       "      <td>19097.000000</td>\n",
       "      <td>18106.000000</td>\n",
       "      <td>17021.000000</td>\n",
       "      <td>2184.000000</td>\n",
       "      <td>2.078000e+03</td>\n",
       "      <td>1917.000000</td>\n",
       "      <td>1520.000000</td>\n",
       "      <td>1548.000000</td>\n",
       "      <td>1500.000000</td>\n",
       "      <td>0.000000</td>\n",
       "    </tr>\n",
       "    <tr>\n",
       "      <th>75%</th>\n",
       "      <td>22998.500000</td>\n",
       "      <td>240000.000000</td>\n",
       "      <td>2.000000</td>\n",
       "      <td>2.000000</td>\n",
       "      <td>2.000000</td>\n",
       "      <td>41.000000</td>\n",
       "      <td>0.000000</td>\n",
       "      <td>0.000000</td>\n",
       "      <td>0.000000</td>\n",
       "      <td>0.000000</td>\n",
       "      <td>...</td>\n",
       "      <td>55154.500000</td>\n",
       "      <td>50437.500000</td>\n",
       "      <td>49380.000000</td>\n",
       "      <td>5100.000000</td>\n",
       "      <td>5.000000e+03</td>\n",
       "      <td>4730.000000</td>\n",
       "      <td>4162.000000</td>\n",
       "      <td>4181.500000</td>\n",
       "      <td>4133.500000</td>\n",
       "      <td>0.000000</td>\n",
       "    </tr>\n",
       "    <tr>\n",
       "      <th>max</th>\n",
       "      <td>30000.000000</td>\n",
       "      <td>1000000.000000</td>\n",
       "      <td>2.000000</td>\n",
       "      <td>6.000000</td>\n",
       "      <td>3.000000</td>\n",
       "      <td>79.000000</td>\n",
       "      <td>8.000000</td>\n",
       "      <td>8.000000</td>\n",
       "      <td>8.000000</td>\n",
       "      <td>8.000000</td>\n",
       "      <td>...</td>\n",
       "      <td>891586.000000</td>\n",
       "      <td>927171.000000</td>\n",
       "      <td>961664.000000</td>\n",
       "      <td>873552.000000</td>\n",
       "      <td>1.684259e+06</td>\n",
       "      <td>896040.000000</td>\n",
       "      <td>621000.000000</td>\n",
       "      <td>426529.000000</td>\n",
       "      <td>528666.000000</td>\n",
       "      <td>1.000000</td>\n",
       "    </tr>\n",
       "  </tbody>\n",
       "</table>\n",
       "<p>8 rows × 25 columns</p>\n",
       "</div>"
      ],
      "text/plain": [
       "                 ID       LIMIT_BAL           SEX     EDUCATION      MARRIAGE  \\\n",
       "count  27999.000000    27999.000000  27999.000000  27999.000000  27999.000000   \n",
       "mean   15749.304368   169647.833137      1.607522      1.853888      1.552484   \n",
       "std     8452.091410   130240.416104      0.488311      0.795310      0.521850   \n",
       "min        3.000000    10000.000000      1.000000      0.000000      0.000000   \n",
       "25%     8999.500000    60000.000000      1.000000      1.000000      1.000000   \n",
       "50%    15999.000000   140000.000000      2.000000      2.000000      2.000000   \n",
       "75%    22998.500000   240000.000000      2.000000      2.000000      2.000000   \n",
       "max    30000.000000  1000000.000000      2.000000      6.000000      3.000000   \n",
       "\n",
       "                AGE         PAY_0         PAY_2         PAY_3         PAY_4  \\\n",
       "count  27999.000000  27999.000000  27999.000000  27999.000000  27999.000000   \n",
       "mean      35.484696     -0.063324     -0.169327     -0.201900     -0.248009   \n",
       "std        9.168462      1.088628      1.162094      1.158822      1.139461   \n",
       "min       21.000000     -2.000000     -2.000000     -2.000000     -2.000000   \n",
       "25%       28.000000     -1.000000     -1.000000     -1.000000     -1.000000   \n",
       "50%       34.000000      0.000000      0.000000      0.000000      0.000000   \n",
       "75%       41.000000      0.000000      0.000000      0.000000      0.000000   \n",
       "max       79.000000      8.000000      8.000000      8.000000      8.000000   \n",
       "\n",
       "       ...      BILL_AMT4      BILL_AMT5      BILL_AMT6       PAY_AMT1  \\\n",
       "count  ...   27999.000000   27999.000000   27999.000000   27999.000000   \n",
       "mean   ...   43501.129397   40427.848780   38988.426658    5823.589878   \n",
       "std    ...   64547.035637   60932.675754   59691.059489   16926.065931   \n",
       "min    ... -170000.000000  -81334.000000 -209051.000000       0.000000   \n",
       "25%    ...    2373.000000    1809.000000    1278.000000    1000.000000   \n",
       "50%    ...   19097.000000   18106.000000   17021.000000    2184.000000   \n",
       "75%    ...   55154.500000   50437.500000   49380.000000    5100.000000   \n",
       "max    ...  891586.000000  927171.000000  961664.000000  873552.000000   \n",
       "\n",
       "           PAY_AMT2       PAY_AMT3       PAY_AMT4       PAY_AMT5  \\\n",
       "count  2.799900e+04   27999.000000   27999.000000   27999.000000   \n",
       "mean   6.107637e+03    5383.826137    4951.663381    4878.592700   \n",
       "std    2.362333e+04   17997.627313   16023.404493   15329.242967   \n",
       "min    0.000000e+00       0.000000       0.000000       0.000000   \n",
       "25%    1.000000e+03     457.000000     316.000000     298.500000   \n",
       "50%    2.078000e+03    1917.000000    1520.000000    1548.000000   \n",
       "75%    5.000000e+03    4730.000000    4162.000000    4181.500000   \n",
       "max    1.684259e+06  896040.000000  621000.000000  426529.000000   \n",
       "\n",
       "            PAY_AMT6       default  \n",
       "count   27999.000000  27999.000000  \n",
       "mean     5342.790350      0.165613  \n",
       "std     17990.023991      0.371740  \n",
       "min         0.000000      0.000000  \n",
       "25%       188.000000      0.000000  \n",
       "50%      1500.000000      0.000000  \n",
       "75%      4133.500000      0.000000  \n",
       "max    528666.000000      1.000000  \n",
       "\n",
       "[8 rows x 25 columns]"
      ]
     },
     "execution_count": 5,
     "metadata": {},
     "output_type": "execute_result"
    }
   ],
   "source": [
    "df.describe()"
   ]
  },
  {
   "cell_type": "markdown",
   "metadata": {},
   "source": [
    "#### Dropping ID column as it does not add any information to the model"
   ]
  },
  {
   "cell_type": "code",
   "execution_count": 6,
   "metadata": {},
   "outputs": [],
   "source": [
    "df = df.drop(['ID'], axis=1)"
   ]
  },
  {
   "cell_type": "markdown",
   "metadata": {},
   "source": [
    "#### In this boxplots we can easily identify continuous and categorical variables"
   ]
  },
  {
   "cell_type": "code",
   "execution_count": 7,
   "metadata": {},
   "outputs": [
    {
     "data": {
      "image/png": "[encoded data removed]",
      "text/plain": [
       "<Figure size 432x288 with 1 Axes>"
      ]
     },
     "metadata": {
      "needs_background": "light"
     },
     "output_type": "display_data"
    }
   ],
   "source": [
    "df_temp = df.iloc[:,:]\n",
    "for i in range(1):\n",
    "    fig, ax = plt.subplots()\n",
    "    mask = ~np.isnan(df_temp.values)\n",
    "    filtered_data = [d[m] for d, m in zip(df_temp.values.T, mask.T)]\n",
    "    ax.boxplot(filtered_data)\n",
    "    plt.show()"
   ]
  },
  {
   "cell_type": "markdown",
   "metadata": {},
   "source": [
    "## Categorical features"
   ]
  },
  {
   "cell_type": "code",
   "execution_count": 8,
   "metadata": {},
   "outputs": [
    {
     "data": {
      "text/plain": [
       "<matplotlib.axes._subplots.AxesSubplot at 0x10716b490>"
      ]
     },
     "execution_count": 8,
     "metadata": {},
     "output_type": "execute_result"
    },
    {
     "data": {
      "image/png": "[encoded data removed]",
      "text/plain": [
       "<Figure size 432x288 with 1 Axes>"
      ]
     },
     "metadata": {
      "needs_background": "light"
     },
     "output_type": "display_data"
    }
   ],
   "source": [
    "sns.countplot(x='SEX', hue='default', data=df)"
   ]
  },
  {
   "cell_type": "code",
   "execution_count": 9,
   "metadata": {},
   "outputs": [
    {
     "data": {
      "text/plain": [
       "<matplotlib.axes._subplots.AxesSubplot at 0x1a1e182d90>"
      ]
     },
     "execution_count": 9,
     "metadata": {},
     "output_type": "execute_result"
    },
    {
     "data": {
      "image/png": "[encoded data removed]",
      "text/plain": [
       "<Figure size 432x288 with 1 Axes>"
      ]
     },
     "metadata": {
      "needs_background": "light"
     },
     "output_type": "display_data"
    }
   ],
   "source": [
    "sns.countplot(x='MARRIAGE', hue='default', data=df)"
   ]
  },
  {
   "cell_type": "code",
   "execution_count": 10,
   "metadata": {},
   "outputs": [
    {
     "data": {
      "text/plain": [
       "<matplotlib.axes._subplots.AxesSubplot at 0x1a1e2bfa10>"
      ]
     },
     "execution_count": 10,
     "metadata": {},
     "output_type": "execute_result"
    },
    {
     "data": {
      "image/png": "[encoded data removed]",
      "text/plain": [
       "<Figure size 432x288 with 1 Axes>"
      ]
     },
     "metadata": {
      "needs_background": "light"
     },
     "output_type": "display_data"
    }
   ],
   "source": [
    "sns.countplot(x='EDUCATION', hue='default', data=df)"
   ]
  },
  {
   "cell_type": "code",
   "execution_count": 11,
   "metadata": {},
   "outputs": [
    {
     "name": "stdout",
     "output_type": "stream",
     "text": [
      "['PAY_0', 'PAY_2', 'PAY_3', 'PAY_4', 'PAY_5', 'PAY_6']\n"
     ]
    },
    {
     "data": {
      "image/png": "[encoded data removed]",
      "text/plain": [
       "<Figure size 432x288 with 1 Axes>"
      ]
     },
     "metadata": {
      "needs_background": "light"
     },
     "output_type": "display_data"
    },
    {
     "data": {
      "image/png": "[encoded data removed]",
      "text/plain": [
       "<Figure size 432x288 with 1 Axes>"
      ]
     },
     "metadata": {
      "needs_background": "light"
     },
     "output_type": "display_data"
    },
    {
     "data": {
      "image/png": "[encoded data removed]",
      "text/plain": [
       "<Figure size 432x288 with 1 Axes>"
      ]
     },
     "metadata": {
      "needs_background": "light"
     },
     "output_type": "display_data"
    },
    {
     "data": {
      "image/png": "[encoded data removed]",
      "text/plain": [
       "<Figure size 432x288 with 1 Axes>"
      ]
     },
     "metadata": {
      "needs_background": "light"
     },
     "output_type": "display_data"
    },
    {
     "data": {
      "image/png": "[encoded data removed]",
      "text/plain": [
       "<Figure size 432x288 with 1 Axes>"
      ]
     },
     "metadata": {
      "needs_background": "light"
     },
     "output_type": "display_data"
    },
    {
     "data": {
      "image/png": "[encoded data removed]",
      "text/plain": [
       "<Figure size 432x288 with 1 Axes>"
      ]
     },
     "metadata": {
      "needs_background": "light"
     },
     "output_type": "display_data"
    }
   ],
   "source": [
    "plt.rcParams.update({'figure.max_open_warning': 0}) #deactivate warning\n",
    "\n",
    "df_temp = df.iloc[:,5:11]\n",
    "columns = df_temp.columns.values.tolist()\n",
    "print(columns)\n",
    "    \n",
    "for i in columns:\n",
    "    df.hist(column=i, bins=20)"
   ]
  },
  {
   "cell_type": "markdown",
   "metadata": {},
   "source": [
    "## Continuous features"
   ]
  },
  {
   "cell_type": "code",
   "execution_count": 12,
   "metadata": {},
   "outputs": [
    {
     "data": {
      "text/plain": [
       "<matplotlib.axes._subplots.AxesSubplot at 0x1a1f012b90>"
      ]
     },
     "execution_count": 12,
     "metadata": {},
     "output_type": "execute_result"
    },
    {
     "data": {
      "image/png": "[encoded data removed]",
      "text/plain": [
       "<Figure size 432x288 with 1 Axes>"
      ]
     },
     "metadata": {
      "needs_background": "light"
     },
     "output_type": "display_data"
    }
   ],
   "source": [
    "sns.countplot(x='AGE', hue='default', data=df)"
   ]
  },
  {
   "cell_type": "code",
   "execution_count": 13,
   "metadata": {
    "scrolled": false
   },
   "outputs": [
    {
     "name": "stdout",
     "output_type": "stream",
     "text": [
      "['BILL_AMT1', 'BILL_AMT2', 'BILL_AMT3', 'BILL_AMT4', 'BILL_AMT5', 'BILL_AMT6', 'PAY_AMT1', 'PAY_AMT2', 'PAY_AMT3', 'PAY_AMT4', 'PAY_AMT5', 'PAY_AMT6']\n"
     ]
    },
    {
     "data": {
      "image/png": "[encoded data removed]",
      "text/plain": [
       "<Figure size 432x288 with 1 Axes>"
      ]
     },
     "metadata": {
      "needs_background": "light"
     },
     "output_type": "display_data"
    },
    {
     "data": {
      "image/png": "[encoded data removed]",
      "text/plain": [
       "<Figure size 432x288 with 1 Axes>"
      ]
     },
     "metadata": {
      "needs_background": "light"
     },
     "output_type": "display_data"
    },
    {
     "data": {
      "image/png": "[encoded data removed]",
      "text/plain": [
       "<Figure size 432x288 with 1 Axes>"
      ]
     },
     "metadata": {
      "needs_background": "light"
     },
     "output_type": "display_data"
    },
    {
     "data": {
      "image/png": "[encoded data removed]",
      "text/plain": [
       "<Figure size 432x288 with 1 Axes>"
      ]
     },
     "metadata": {
      "needs_background": "light"
     },
     "output_type": "display_data"
    },
    {
     "data": {
      "image/png": "[encoded data removed]",
      "text/plain": [
       "<Figure size 432x288 with 1 Axes>"
      ]
     },
     "metadata": {
      "needs_background": "light"
     },
     "output_type": "display_data"
    },
    {
     "data": {
      "image/png": "[encoded data removed]",
      "text/plain": [
       "<Figure size 432x288 with 1 Axes>"
      ]
     },
     "metadata": {
      "needs_background": "light"
     },
     "output_type": "display_data"
    },
    {
     "data": {
      "image/png": "[encoded data removed]",
      "text/plain": [
       "<Figure size 432x288 with 1 Axes>"
      ]
     },
     "metadata": {
      "needs_background": "light"
     },
     "output_type": "display_data"
    },
    {
     "data": {
      "image/png": "[encoded data removed]",
      "text/plain": [
       "<Figure size 432x288 with 1 Axes>"
      ]
     },
     "metadata": {
      "needs_background": "light"
     },
     "output_type": "display_data"
    },
    {
     "data": {
      "image/png": "[encoded data removed]",
      "text/plain": [
       "<Figure size 432x288 with 1 Axes>"
      ]
     },
     "metadata": {
      "needs_background": "light"
     },
     "output_type": "display_data"
    },
    {
     "data": {
      "image/png": "[encoded data removed]",
      "text/plain": [
       "<Figure size 432x288 with 1 Axes>"
      ]
     },
     "metadata": {
      "needs_background": "light"
     },
     "output_type": "display_data"
    },
    {
     "data": {
      "image/png": "[encoded data removed]",
      "text/plain": [
       "<Figure size 432x288 with 1 Axes>"
      ]
     },
     "metadata": {
      "needs_background": "light"
     },
     "output_type": "display_data"
    },
    {
     "data": {
      "image/png": "[encoded data removed]",
      "text/plain": [
       "<Figure size 432x288 with 1 Axes>"
      ]
     },
     "metadata": {
      "needs_background": "light"
     },
     "output_type": "display_data"
    }
   ],
   "source": [
    "plt.rcParams.update({'figure.max_open_warning': 0}) #deactivate warning\n",
    "\n",
    "df_temp = df.iloc[:,11:-1]\n",
    "columns = df_temp.columns.values.tolist()\n",
    "print(columns)\n",
    "    \n",
    "for i in columns:\n",
    "    df.hist(column=i, bins=20)"
   ]
  },
  {
   "cell_type": "markdown",
   "metadata": {},
   "source": [
    "## Target\n",
    "#### As only 16% of our sample consists of clients with default status, our sample is imbalanced"
   ]
  },
  {
   "cell_type": "code",
   "execution_count": 14,
   "metadata": {},
   "outputs": [
    {
     "name": "stdout",
     "output_type": "stream",
     "text": [
      "Percentage of defaults in sample:  16.561305760920035\n"
     ]
    },
    {
     "data": {
      "image/png": "[encoded data removed]",
      "text/plain": [
       "<Figure size 432x288 with 1 Axes>"
      ]
     },
     "metadata": {
      "needs_background": "light"
     },
     "output_type": "display_data"
    }
   ],
   "source": [
    "sns.countplot(x='default', data=df)\n",
    "print('Percentage of defaults in sample: ', df['default'].sum()/df['default'].count()*100)"
   ]
  },
  {
   "cell_type": "markdown",
   "metadata": {},
   "source": [
    "## Metric selection\n",
    "#### Overall, accuracy is a great metric to evaluate a binary classification model, although this measure would not be good for our model since an imbalanced training sample would causes a biased model.\n",
    "#### We could use recall or precission as a metric for evaluating models trained with an imbalanced data set.\n",
    "#### Since we are more interested in reducing the Type 2 Error (false negative) (clients that will default and were predicted not to), it would be more appropriate to use the recall score."
   ]
  },
  {
   "cell_type": "markdown",
   "metadata": {},
   "source": [
    "## Preprocessing datasets\n",
    "#### As we are dealing with categorical features and not all models are able to handle these, we will create a new dataset, df2, that will replace these categorical features by dummies (binary features). We will not take \"PAY\" features into account as this would add a lot of features. We will come back to this step if deemed necessary. "
   ]
  },
  {
   "cell_type": "code",
   "execution_count": 15,
   "metadata": {},
   "outputs": [],
   "source": [
    "df2 = df\n",
    "df2['SEX'] = df2['SEX']-1\n",
    "marriage = pd.get_dummies(df2['MARRIAGE'], drop_first=True)\n",
    "marriage.columns = ['MAR1','MAR2','MAR3']\n",
    "\n",
    "education = pd.get_dummies(df2['EDUCATION'], drop_first=True)\n",
    "education.columns = ['ED1','ED2','ED3','ED4', 'ED5', 'ED6']\n",
    "\n",
    "df2 = pd.concat([df2,marriage,education],axis=1)\n",
    "\n",
    "df2.drop(['MARRIAGE', 'EDUCATION'], axis=1, inplace=True)\n"
   ]
  },
  {
   "cell_type": "markdown",
   "metadata": {},
   "source": [
    "#### Defining features and target"
   ]
  },
  {
   "cell_type": "code",
   "execution_count": 16,
   "metadata": {},
   "outputs": [],
   "source": [
    "X=df.drop(['default'], axis=1)       # includes categorical features\n",
    "X2 = df2.drop(['default'], axis=1)   # includes dummies\n",
    "\n",
    "y=df['default']"
   ]
  },
  {
   "cell_type": "markdown",
   "metadata": {},
   "source": [
    "####  Defining test and train subsets for each datset variation"
   ]
  },
  {
   "cell_type": "code",
   "execution_count": 17,
   "metadata": {},
   "outputs": [],
   "source": [
    "X_train, X_test, y_train, y_test = train_test_split(X, y, test_size=0.1, random_state=42)\n",
    "X2_train, X2_test, y2_train, y2_test = train_test_split(X2, y, test_size=0.1, random_state=42)"
   ]
  },
  {
   "cell_type": "markdown",
   "metadata": {},
   "source": [
    "##  \n",
    "## Modeling\n",
    "#### We will start by using simple models trained with our original imbalanced training set"
   ]
  },
  {
   "cell_type": "markdown",
   "metadata": {},
   "source": [
    "### Logistic Regression"
   ]
  },
  {
   "cell_type": "code",
   "execution_count": 18,
   "metadata": {},
   "outputs": [],
   "source": [
    "logit = LogisticRegression(max_iter=1000, random_state=42)\n",
    "logit_pipe = Pipeline([('scaler', StandardScaler()), ('logit', logit)])"
   ]
  },
  {
   "cell_type": "code",
   "execution_count": 19,
   "metadata": {},
   "outputs": [
    {
     "name": "stdout",
     "output_type": "stream",
     "text": [
      "CPU times: user 1.44 s, sys: 47.8 ms, total: 1.49 s\n",
      "Wall time: 413 ms\n"
     ]
    }
   ],
   "source": [
    "%%time\n",
    "logit_pipe.fit(X2_train,y2_train)\n",
    "\n",
    "pipe_pred = logit_pipe.predict(X2_test)\n",
    "pipe_train_pred = logit_pipe.predict(X2_train)"
   ]
  },
  {
   "cell_type": "code",
   "execution_count": 20,
   "metadata": {},
   "outputs": [
    {
     "name": "stdout",
     "output_type": "stream",
     "text": [
      "Confusion matrix:\n"
     ]
    },
    {
     "data": {
      "text/plain": [
       "array([[2351,   29],\n",
       "       [ 369,   51]])"
      ]
     },
     "execution_count": 20,
     "metadata": {},
     "output_type": "execute_result"
    }
   ],
   "source": [
    "print('Confusion matrix:')\n",
    "confusion_matrix(y2_test, pipe_pred)"
   ]
  },
  {
   "cell_type": "code",
   "execution_count": 21,
   "metadata": {},
   "outputs": [
    {
     "name": "stdout",
     "output_type": "stream",
     "text": [
      "Train score:  0.8440017461010357\n",
      "Test score:  0.8578571428571429\n",
      "Recall score:  0.12142857142857143\n"
     ]
    }
   ],
   "source": [
    "print('Train score: ', accuracy_score(y2_train, pipe_train_pred))\n",
    "print('Test score: ', accuracy_score(y2_test, pipe_pred))\n",
    "print('Recall score: ', recall_score(y2_test, pipe_pred))"
   ]
  },
  {
   "cell_type": "markdown",
   "metadata": {},
   "source": [
    "#### This last accuracy score means we predicted the right outcome 85% of the time, very little above what we would have gotten by predicting that no client would default. We can easily tell this model is not good enough.\n",
    "####  "
   ]
  },
  {
   "cell_type": "markdown",
   "metadata": {},
   "source": [
    "### Random Forest\n",
    "#### In this model, the variability that is introduced by using multiple bootstrapped datasets and random variable selection make random forests better models than a simple decision tree"
   ]
  },
  {
   "cell_type": "code",
   "execution_count": 22,
   "metadata": {},
   "outputs": [],
   "source": [
    "f_forest = RandomForestClassifier(n_estimators=100, random_state=42, n_jobs=4)"
   ]
  },
  {
   "cell_type": "code",
   "execution_count": 23,
   "metadata": {},
   "outputs": [
    {
     "name": "stdout",
     "output_type": "stream",
     "text": [
      "CPU times: user 9.41 s, sys: 191 ms, total: 9.6 s\n",
      "Wall time: 2.62 s\n"
     ]
    }
   ],
   "source": [
    "%%time\n",
    "f_forest.fit(X2_train,y2_train)\n",
    "\n",
    "f_forest_train_pred = f_forest.predict(X2_train)\n",
    "f_forest_pred = f_forest.predict(X2_test)"
   ]
  },
  {
   "cell_type": "code",
   "execution_count": 24,
   "metadata": {},
   "outputs": [
    {
     "name": "stdout",
     "output_type": "stream",
     "text": [
      "Confusion matrix:\n"
     ]
    },
    {
     "data": {
      "text/plain": [
       "array([[2315,   65],\n",
       "       [ 300,  120]])"
      ]
     },
     "execution_count": 24,
     "metadata": {},
     "output_type": "execute_result"
    }
   ],
   "source": [
    "print('Confusion matrix:')\n",
    "confusion_matrix(y2_test, f_forest_pred)"
   ]
  },
  {
   "cell_type": "code",
   "execution_count": 25,
   "metadata": {},
   "outputs": [
    {
     "name": "stdout",
     "output_type": "stream",
     "text": [
      "Train score:  0.9996825270844081\n",
      "Test score:  0.8696428571428572\n",
      "Recall score:  0.2857142857142857\n"
     ]
    }
   ],
   "source": [
    "print('Train score: ', accuracy_score(y2_train, f_forest_train_pred))\n",
    "print('Test score: ', accuracy_score(y2_test, f_forest_pred))\n",
    "print('Recall score: ', recall_score(y2_test, f_forest_pred))"
   ]
  },
  {
   "cell_type": "markdown",
   "metadata": {},
   "source": [
    "#### Although we obtain a better score, our model is not fitted enough.\n",
    "#### We can improve recall and accuracy by implementing an algorithm such as Adaptive Boosting that will add weight to weak learners so that the model is tweaked to fit these better.\n",
    "#### Other similar methods that are more efficient at this are XGBoost, LightBGM and CatBoost."
   ]
  },
  {
   "cell_type": "markdown",
   "metadata": {},
   "source": [
    "#### Calculating the Gini importance to rank features from most to least important (10 most relevant)\n",
    "#### We notice that the most important feature is a categorical one. Handling this type of feature in a model that allows it like LightGBM should improve our result. We can also try XGBoost in which we can easily increase fit by increasing the max_depth parameter"
   ]
  },
  {
   "cell_type": "code",
   "execution_count": 26,
   "metadata": {},
   "outputs": [
    {
     "data": {
      "text/html": [
       "<div>\n",
       "<style scoped>\n",
       "    .dataframe tbody tr th:only-of-type {\n",
       "        vertical-align: middle;\n",
       "    }\n",
       "\n",
       "    .dataframe tbody tr th {\n",
       "        vertical-align: top;\n",
       "    }\n",
       "\n",
       "    .dataframe thead th {\n",
       "        text-align: right;\n",
       "    }\n",
       "</style>\n",
       "<table border=\"1\" class=\"dataframe\">\n",
       "  <thead>\n",
       "    <tr style=\"text-align: right;\">\n",
       "      <th></th>\n",
       "      <th>Importance</th>\n",
       "    </tr>\n",
       "  </thead>\n",
       "  <tbody>\n",
       "    <tr>\n",
       "      <th>PAY_0</th>\n",
       "      <td>0.096486</td>\n",
       "    </tr>\n",
       "    <tr>\n",
       "      <th>AGE</th>\n",
       "      <td>0.065243</td>\n",
       "    </tr>\n",
       "    <tr>\n",
       "      <th>LIMIT_BAL</th>\n",
       "      <td>0.059367</td>\n",
       "    </tr>\n",
       "    <tr>\n",
       "      <th>BILL_AMT1</th>\n",
       "      <td>0.059063</td>\n",
       "    </tr>\n",
       "    <tr>\n",
       "      <th>BILL_AMT2</th>\n",
       "      <td>0.055086</td>\n",
       "    </tr>\n",
       "    <tr>\n",
       "      <th>BILL_AMT3</th>\n",
       "      <td>0.051979</td>\n",
       "    </tr>\n",
       "    <tr>\n",
       "      <th>PAY_AMT1</th>\n",
       "      <td>0.051602</td>\n",
       "    </tr>\n",
       "    <tr>\n",
       "      <th>BILL_AMT5</th>\n",
       "      <td>0.050463</td>\n",
       "    </tr>\n",
       "    <tr>\n",
       "      <th>BILL_AMT6</th>\n",
       "      <td>0.050461</td>\n",
       "    </tr>\n",
       "    <tr>\n",
       "      <th>BILL_AMT4</th>\n",
       "      <td>0.050161</td>\n",
       "    </tr>\n",
       "  </tbody>\n",
       "</table>\n",
       "</div>"
      ],
      "text/plain": [
       "           Importance\n",
       "PAY_0        0.096486\n",
       "AGE          0.065243\n",
       "LIMIT_BAL    0.059367\n",
       "BILL_AMT1    0.059063\n",
       "BILL_AMT2    0.055086\n",
       "BILL_AMT3    0.051979\n",
       "PAY_AMT1     0.051602\n",
       "BILL_AMT5    0.050463\n",
       "BILL_AMT6    0.050461\n",
       "BILL_AMT4    0.050161"
      ]
     },
     "execution_count": 26,
     "metadata": {},
     "output_type": "execute_result"
    }
   ],
   "source": [
    "pd.DataFrame(f_forest.feature_importances_,\n",
    "             index=X2_train.columns,\n",
    "             columns=['Importance']).sort_values(by=\"Importance\", ascending=False)[:10]"
   ]
  },
  {
   "cell_type": "markdown",
   "metadata": {},
   "source": [
    "### LightGBM (no tuning)"
   ]
  },
  {
   "cell_type": "code",
   "execution_count": 27,
   "metadata": {},
   "outputs": [],
   "source": [
    "lgbmC = LGBMClassifier(random_state=42, learning_rate=0.1)"
   ]
  },
  {
   "cell_type": "code",
   "execution_count": 28,
   "metadata": {},
   "outputs": [
    {
     "name": "stdout",
     "output_type": "stream",
     "text": [
      "CPU times: user 2.27 s, sys: 95 ms, total: 2.36 s\n",
      "Wall time: 346 ms\n"
     ]
    },
    {
     "data": {
      "text/plain": [
       "LGBMClassifier(boosting_type='gbdt', class_weight=None, colsample_bytree=1.0,\n",
       "               importance_type='split', learning_rate=0.1, max_depth=-1,\n",
       "               min_child_samples=20, min_child_weight=0.001, min_split_gain=0.0,\n",
       "               n_estimators=100, n_jobs=-1, num_leaves=31, objective=None,\n",
       "               random_state=42, reg_alpha=0.0, reg_lambda=0.0, silent=True,\n",
       "               subsample=1.0, subsample_for_bin=200000, subsample_freq=0)"
      ]
     },
     "execution_count": 28,
     "metadata": {},
     "output_type": "execute_result"
    }
   ],
   "source": [
    "%%time\n",
    "lgbmC.fit(X_train,y_train, categorical_feature='auto')"
   ]
  },
  {
   "cell_type": "code",
   "execution_count": 29,
   "metadata": {},
   "outputs": [
    {
     "name": "stdout",
     "output_type": "stream",
     "text": [
      "Train score:  0.8778522957260209\n",
      "Test score:  0.8728571428571429\n",
      "Recall score:  0.3119047619047619\n"
     ]
    }
   ],
   "source": [
    "print('Train score: ', accuracy_score(y_train, lgbmC.predict(X_train)))\n",
    "print('Test score: ', accuracy_score(y_test, lgbmC.predict(X_test)))\n",
    "print('Recall score: ', recall_score(y_test, lgbmC.predict(X_test)))"
   ]
  },
  {
   "cell_type": "markdown",
   "metadata": {},
   "source": [
    "#### Not very different scores from RandomForest"
   ]
  },
  {
   "cell_type": "markdown",
   "metadata": {},
   "source": [
    "### LightGBM: tuning model complexity\n",
    "#### We will tune num_leaves and max_depth in order to find a better fit"
   ]
  },
  {
   "cell_type": "code",
   "execution_count": 30,
   "metadata": {},
   "outputs": [
    {
     "name": "stdout",
     "output_type": "stream",
     "text": [
      "Fitting 5 folds for each of 20 candidates, totalling 100 fits\n"
     ]
    },
    {
     "name": "stderr",
     "output_type": "stream",
     "text": [
      "[Parallel(n_jobs=4)]: Using backend LokyBackend with 4 concurrent workers.\n",
      "[Parallel(n_jobs=4)]: Done  42 tasks      | elapsed:    6.7s\n",
      "[Parallel(n_jobs=4)]: Done 100 out of 100 | elapsed:   16.1s finished\n"
     ]
    },
    {
     "name": "stdout",
     "output_type": "stream",
     "text": [
      "{'max_depth': 4, 'num_leaves': 15} 0.8568992020966618\n"
     ]
    }
   ],
   "source": [
    "param_grid = {'num_leaves': [7,15,31,63],\n",
    "              'max_depth': [3,4,5,6,-1]}\n",
    "\n",
    "grid_searcher = GridSearchCV(estimator=lgbmC, param_grid=param_grid, cv=5, verbose=1, n_jobs=4)\n",
    "grid_searcher.fit(X_train,y_train)\n",
    "\n",
    "print(grid_searcher.best_params_, grid_searcher.best_score_)"
   ]
  },
  {
   "cell_type": "code",
   "execution_count": 31,
   "metadata": {},
   "outputs": [
    {
     "name": "stdout",
     "output_type": "stream",
     "text": [
      "Train accuracy:  0.8668597960236517\n",
      "Test accuracy:  0.8732142857142857\n",
      "Test recall:  0.3119047619047619\n"
     ]
    }
   ],
   "source": [
    "print('Train accuracy: ', accuracy_score(y_train, grid_searcher.predict(X_train)))\n",
    "print('Test accuracy: ', accuracy_score(y_test, grid_searcher.predict(X_test)))\n",
    "print('Test recall: ', recall_score(y_test, grid_searcher.predict(X_test)))"
   ]
  },
  {
   "cell_type": "markdown",
   "metadata": {},
   "source": [
    "### XGBoost (no tuning)"
   ]
  },
  {
   "cell_type": "code",
   "execution_count": 32,
   "metadata": {},
   "outputs": [],
   "source": [
    "xgbC = XGBClassifier()"
   ]
  },
  {
   "cell_type": "code",
   "execution_count": 33,
   "metadata": {},
   "outputs": [
    {
     "name": "stdout",
     "output_type": "stream",
     "text": [
      "CPU times: user 15.5 s, sys: 365 ms, total: 15.8 s\n",
      "Wall time: 2.35 s\n"
     ]
    }
   ],
   "source": [
    "%%time\n",
    "xgbC.fit(X2_train, y2_train)\n",
    "\n",
    "xgbC_pred = xgbC.predict(X2_test)\n",
    "xgbC_train_pred = xgbC.predict(X2_train)"
   ]
  },
  {
   "cell_type": "code",
   "execution_count": 34,
   "metadata": {},
   "outputs": [
    {
     "name": "stdout",
     "output_type": "stream",
     "text": [
      "Train accuracy:  0.9103932695741894\n",
      "Test accuracy:   0.8685714285714285\n",
      "Test recall:  0.3119047619047619\n"
     ]
    }
   ],
   "source": [
    "print('Train accuracy: ', accuracy_score(y2_train, xgbC_train_pred))\n",
    "print('Test accuracy:  ', accuracy_score(y2_test, xgbC_pred))\n",
    "print('Test recall: ', recall_score(y2_test, xgbC_pred))"
   ]
  },
  {
   "cell_type": "markdown",
   "metadata": {},
   "source": [
    "#### Tweaking max depth to fit the model"
   ]
  },
  {
   "cell_type": "code",
   "execution_count": 35,
   "metadata": {},
   "outputs": [],
   "source": [
    "xgbC = XGBClassifier(max_depth=20)"
   ]
  },
  {
   "cell_type": "code",
   "execution_count": 36,
   "metadata": {},
   "outputs": [
    {
     "name": "stdout",
     "output_type": "stream",
     "text": [
      "CPU times: user 48.2 s, sys: 724 ms, total: 48.9 s\n",
      "Wall time: 6.75 s\n"
     ]
    }
   ],
   "source": [
    "%%time\n",
    "xgbC.fit(X2_train, y2_train)\n",
    "\n",
    "xgbC_pred = xgbC.predict(X2_test)\n",
    "xgbC_train_pred = xgbC.predict(X2_train)"
   ]
  },
  {
   "cell_type": "code",
   "execution_count": 37,
   "metadata": {},
   "outputs": [
    {
     "name": "stdout",
     "output_type": "stream",
     "text": [
      "Train accuracy:  0.9988094765665304\n",
      "Test accuracy:   0.8628571428571429\n",
      "Test recall:  0.3119047619047619\n"
     ]
    }
   ],
   "source": [
    "print('Train accuracy: ', accuracy_score(y2_train, xgbC_train_pred))\n",
    "print('Test accuracy:  ', accuracy_score(y2_test, xgbC_pred))\n",
    "print('Test recall: ', recall_score(y2_test, xgbC_pred))"
   ]
  },
  {
   "cell_type": "markdown",
   "metadata": {},
   "source": [
    "#### After tweaking max_depth we get a model that is better fitted but still biased\n",
    "#### We will handle the imbalanced data set with two simple methods and check the results"
   ]
  },
  {
   "cell_type": "markdown",
   "metadata": {},
   "source": [
    "### XGBoost: handling imbalaced dataset by under sampling\n",
    "#### This method will help us balance our dataset by selecting random samples of negative defaults to match the amount of positive defaults"
   ]
  },
  {
   "cell_type": "code",
   "execution_count": 38,
   "metadata": {},
   "outputs": [],
   "source": [
    "df2_X = df2.drop(['default'], axis=1)\n",
    "df2_y = df2['default']\n",
    "\n",
    "default = df2[df2['default']==1]\n",
    "normal = df2[df2['default']==0]\n",
    "\n",
    "from imblearn.under_sampling import RandomUnderSampler\n",
    "\n",
    "rus = RandomUnderSampler()\n",
    "X2_under, y2_under = rus.fit_sample(df2_X,df2_y)\n",
    "\n",
    "X2_under_train, X2_under_test, y2_under_train, y2_under_test = train_test_split(X2_under, y2_under, test_size=0.1, random_state=1)"
   ]
  },
  {
   "cell_type": "markdown",
   "metadata": {},
   "source": [
    "#### In the previous last step we obtain the training and testing subsets from the balanced dataset (only the training subset is used in further steps)"
   ]
  },
  {
   "cell_type": "code",
   "execution_count": 39,
   "metadata": {},
   "outputs": [],
   "source": [
    "xgbC = XGBClassifier(max_depth=20)"
   ]
  },
  {
   "cell_type": "code",
   "execution_count": 40,
   "metadata": {},
   "outputs": [
    {
     "name": "stdout",
     "output_type": "stream",
     "text": [
      "CPU times: user 15.9 s, sys: 318 ms, total: 16.2 s\n",
      "Wall time: 2.29 s\n"
     ]
    }
   ],
   "source": [
    "%%time\n",
    "xgbC.fit(X2_under_train, y2_under_train)\n",
    "\n",
    "xgbC_pred = xgbC.predict(X2_test)\n",
    "xgbC_train_pred = xgbC.predict(X2_train)"
   ]
  },
  {
   "cell_type": "code",
   "execution_count": 41,
   "metadata": {},
   "outputs": [
    {
     "name": "stdout",
     "output_type": "stream",
     "text": [
      "Train accuracy:  0.806182785031152\n",
      "Test accuracy:   0.8139285714285714\n",
      "Test recall:     0.9761904761904762\n"
     ]
    }
   ],
   "source": [
    "print('Train accuracy: ', accuracy_score(y2_train, xgbC_train_pred))\n",
    "print('Test accuracy:  ', accuracy_score(y2_test, xgbC_pred))\n",
    "print('Test recall:    ', recall_score(y2_test, xgbC_pred))"
   ]
  },
  {
   "cell_type": "markdown",
   "metadata": {},
   "source": [
    "#### These accuracy results seem worse than the last ones, but they are not biased so they are a better metric. Also, we have a much larger recall"
   ]
  },
  {
   "cell_type": "markdown",
   "metadata": {},
   "source": [
    "### XGBoost: handling imbalaced dataset by over sampling\n",
    "#### This method will help us balance our dataset by selecting random samples of positive defaults to match the amount of negative defaults (this will generate duplicate entries in the dataset). Bias should be reduced with this new sample and hopefully it will not cause overfitting."
   ]
  },
  {
   "cell_type": "code",
   "execution_count": 42,
   "metadata": {},
   "outputs": [],
   "source": [
    "df2_X = df2.drop(['default'], axis=1)\n",
    "df2_y = df2['default']\n",
    "\n",
    "default = df2[df2['default']==1]\n",
    "normal = df2[df2['default']==0]\n",
    "\n",
    "from imblearn.over_sampling import RandomOverSampler\n",
    "\n",
    "ros = RandomOverSampler()\n",
    "X2_over, y2_over = ros.fit_sample(df2_X,df2_y)\n",
    "\n",
    "X2_over_train, X2_over_test, y2_over_train, y2_over_test = train_test_split(X2_over, y2_over, test_size=0.1, random_state=1)"
   ]
  },
  {
   "cell_type": "markdown",
   "metadata": {},
   "source": [
    "#### We obtain our new subset X2_over_train, y2_over_train from the previous last step"
   ]
  },
  {
   "cell_type": "code",
   "execution_count": 43,
   "metadata": {},
   "outputs": [],
   "source": [
    "xgbC = XGBClassifier(max_depth=20)"
   ]
  },
  {
   "cell_type": "code",
   "execution_count": 44,
   "metadata": {},
   "outputs": [
    {
     "name": "stdout",
     "output_type": "stream",
     "text": [
      "CPU times: user 1min 15s, sys: 936 ms, total: 1min 16s\n",
      "Wall time: 10.5 s\n"
     ]
    }
   ],
   "source": [
    "%%time\n",
    "xgbC.fit(X2_over_train, y2_over_train)\n",
    "    \n",
    "xgbC_pred = xgbC.predict(X2_test)\n",
    "xgbC_train_pred = xgbC.predict(X2_train)"
   ]
  },
  {
   "cell_type": "code",
   "execution_count": 45,
   "metadata": {},
   "outputs": [
    {
     "name": "stdout",
     "output_type": "stream",
     "text": [
      "Train accuracy:  0.9921822294535497\n",
      "Test accuracy:   0.9921428571428571\n",
      "Test recall:     1.0\n"
     ]
    }
   ],
   "source": [
    "print('Train accuracy: ', accuracy_score(y2_train, xgbC_train_pred))\n",
    "print('Test accuracy:  ', accuracy_score(y2_test, xgbC_pred))\n",
    "print('Test recall:    ', recall_score(y2_test, xgbC_pred))"
   ]
  },
  {
   "cell_type": "markdown",
   "metadata": {},
   "source": [
    "#### We could do further tuning to this model but for now we have achieved an accuracy above 98% for both our training and testing subsets. Also, our test recall is very close to 1."
   ]
  },
  {
   "cell_type": "markdown",
   "metadata": {},
   "source": [
    "## Predicting default status for validation dataset\n",
    "#### Now we will import the validation subset, preprocess and run it through our model trained by the new sample"
   ]
  },
  {
   "cell_type": "code",
   "execution_count": 46,
   "metadata": {},
   "outputs": [
    {
     "name": "stdout",
     "output_type": "stream",
     "text": [
      "CPU times: user 1.16 s, sys: 50.2 ms, total: 1.21 s\n",
      "Wall time: 158 ms\n"
     ]
    },
    {
     "data": {
      "text/html": [
       "<div>\n",
       "<style scoped>\n",
       "    .dataframe tbody tr th:only-of-type {\n",
       "        vertical-align: middle;\n",
       "    }\n",
       "\n",
       "    .dataframe tbody tr th {\n",
       "        vertical-align: top;\n",
       "    }\n",
       "\n",
       "    .dataframe thead th {\n",
       "        text-align: right;\n",
       "    }\n",
       "</style>\n",
       "<table border=\"1\" class=\"dataframe\">\n",
       "  <thead>\n",
       "    <tr style=\"text-align: right;\">\n",
       "      <th></th>\n",
       "      <th>LIMIT_BAL</th>\n",
       "      <th>SEX</th>\n",
       "      <th>AGE</th>\n",
       "      <th>PAY_0</th>\n",
       "      <th>PAY_2</th>\n",
       "      <th>PAY_3</th>\n",
       "      <th>PAY_4</th>\n",
       "      <th>PAY_5</th>\n",
       "      <th>PAY_6</th>\n",
       "      <th>BILL_AMT1</th>\n",
       "      <th>...</th>\n",
       "      <th>MAR1</th>\n",
       "      <th>MAR2</th>\n",
       "      <th>MAR3</th>\n",
       "      <th>ED1</th>\n",
       "      <th>ED2</th>\n",
       "      <th>ED3</th>\n",
       "      <th>ED4</th>\n",
       "      <th>ED5</th>\n",
       "      <th>ED6</th>\n",
       "      <th>default_pred</th>\n",
       "    </tr>\n",
       "  </thead>\n",
       "  <tbody>\n",
       "    <tr>\n",
       "      <th>count</th>\n",
       "      <td>2001.000000</td>\n",
       "      <td>2001.000000</td>\n",
       "      <td>2001.000000</td>\n",
       "      <td>2001.000000</td>\n",
       "      <td>2001.000000</td>\n",
       "      <td>2001.000000</td>\n",
       "      <td>2001.000000</td>\n",
       "      <td>2001.000000</td>\n",
       "      <td>2001.00000</td>\n",
       "      <td>2001.000000</td>\n",
       "      <td>...</td>\n",
       "      <td>2001.000000</td>\n",
       "      <td>2001.000000</td>\n",
       "      <td>2001.000000</td>\n",
       "      <td>2001.000000</td>\n",
       "      <td>2001.000000</td>\n",
       "      <td>2001.000000</td>\n",
       "      <td>2001.000000</td>\n",
       "      <td>2001.000000</td>\n",
       "      <td>2001.0</td>\n",
       "      <td>2001.000000</td>\n",
       "    </tr>\n",
       "    <tr>\n",
       "      <th>mean</th>\n",
       "      <td>137211.394303</td>\n",
       "      <td>8.550725</td>\n",
       "      <td>35.496752</td>\n",
       "      <td>0.635682</td>\n",
       "      <td>0.363818</td>\n",
       "      <td>0.333333</td>\n",
       "      <td>0.161919</td>\n",
       "      <td>0.123938</td>\n",
       "      <td>0.06097</td>\n",
       "      <td>48415.934533</td>\n",
       "      <td>...</td>\n",
       "      <td>0.468266</td>\n",
       "      <td>0.518741</td>\n",
       "      <td>0.012494</td>\n",
       "      <td>0.341829</td>\n",
       "      <td>0.478261</td>\n",
       "      <td>0.177411</td>\n",
       "      <td>0.000500</td>\n",
       "      <td>0.001999</td>\n",
       "      <td>0.0</td>\n",
       "      <td>0.341829</td>\n",
       "    </tr>\n",
       "    <tr>\n",
       "      <th>std</th>\n",
       "      <td>118604.467834</td>\n",
       "      <td>0.497545</td>\n",
       "      <td>9.886259</td>\n",
       "      <td>1.377210</td>\n",
       "      <td>1.525638</td>\n",
       "      <td>1.555742</td>\n",
       "      <td>1.473014</td>\n",
       "      <td>1.465821</td>\n",
       "      <td>1.47081</td>\n",
       "      <td>73427.295418</td>\n",
       "      <td>...</td>\n",
       "      <td>0.499117</td>\n",
       "      <td>0.499774</td>\n",
       "      <td>0.111103</td>\n",
       "      <td>0.474441</td>\n",
       "      <td>0.499652</td>\n",
       "      <td>0.382112</td>\n",
       "      <td>0.022355</td>\n",
       "      <td>0.044677</td>\n",
       "      <td>0.0</td>\n",
       "      <td>0.474441</td>\n",
       "    </tr>\n",
       "    <tr>\n",
       "      <th>min</th>\n",
       "      <td>10000.000000</td>\n",
       "      <td>8.000000</td>\n",
       "      <td>21.000000</td>\n",
       "      <td>-2.000000</td>\n",
       "      <td>-2.000000</td>\n",
       "      <td>-2.000000</td>\n",
       "      <td>-2.000000</td>\n",
       "      <td>-2.000000</td>\n",
       "      <td>-2.00000</td>\n",
       "      <td>-3928.000000</td>\n",
       "      <td>...</td>\n",
       "      <td>0.000000</td>\n",
       "      <td>0.000000</td>\n",
       "      <td>0.000000</td>\n",
       "      <td>0.000000</td>\n",
       "      <td>0.000000</td>\n",
       "      <td>0.000000</td>\n",
       "      <td>0.000000</td>\n",
       "      <td>0.000000</td>\n",
       "      <td>0.0</td>\n",
       "      <td>0.000000</td>\n",
       "    </tr>\n",
       "    <tr>\n",
       "      <th>25%</th>\n",
       "      <td>50000.000000</td>\n",
       "      <td>8.000000</td>\n",
       "      <td>27.000000</td>\n",
       "      <td>0.000000</td>\n",
       "      <td>-1.000000</td>\n",
       "      <td>-1.000000</td>\n",
       "      <td>-1.000000</td>\n",
       "      <td>-1.000000</td>\n",
       "      <td>-1.00000</td>\n",
       "      <td>2500.000000</td>\n",
       "      <td>...</td>\n",
       "      <td>0.000000</td>\n",
       "      <td>0.000000</td>\n",
       "      <td>0.000000</td>\n",
       "      <td>0.000000</td>\n",
       "      <td>0.000000</td>\n",
       "      <td>0.000000</td>\n",
       "      <td>0.000000</td>\n",
       "      <td>0.000000</td>\n",
       "      <td>0.0</td>\n",
       "      <td>0.000000</td>\n",
       "    </tr>\n",
       "    <tr>\n",
       "      <th>50%</th>\n",
       "      <td>100000.000000</td>\n",
       "      <td>9.000000</td>\n",
       "      <td>34.000000</td>\n",
       "      <td>1.000000</td>\n",
       "      <td>0.000000</td>\n",
       "      <td>0.000000</td>\n",
       "      <td>0.000000</td>\n",
       "      <td>0.000000</td>\n",
       "      <td>0.00000</td>\n",
       "      <td>20184.000000</td>\n",
       "      <td>...</td>\n",
       "      <td>0.000000</td>\n",
       "      <td>1.000000</td>\n",
       "      <td>0.000000</td>\n",
       "      <td>0.000000</td>\n",
       "      <td>0.000000</td>\n",
       "      <td>0.000000</td>\n",
       "      <td>0.000000</td>\n",
       "      <td>0.000000</td>\n",
       "      <td>0.0</td>\n",
       "      <td>0.000000</td>\n",
       "    </tr>\n",
       "    <tr>\n",
       "      <th>75%</th>\n",
       "      <td>200000.000000</td>\n",
       "      <td>9.000000</td>\n",
       "      <td>42.000000</td>\n",
       "      <td>2.000000</td>\n",
       "      <td>2.000000</td>\n",
       "      <td>2.000000</td>\n",
       "      <td>0.000000</td>\n",
       "      <td>0.000000</td>\n",
       "      <td>0.00000</td>\n",
       "      <td>58143.000000</td>\n",
       "      <td>...</td>\n",
       "      <td>1.000000</td>\n",
       "      <td>1.000000</td>\n",
       "      <td>0.000000</td>\n",
       "      <td>1.000000</td>\n",
       "      <td>1.000000</td>\n",
       "      <td>0.000000</td>\n",
       "      <td>0.000000</td>\n",
       "      <td>0.000000</td>\n",
       "      <td>0.0</td>\n",
       "      <td>1.000000</td>\n",
       "    </tr>\n",
       "    <tr>\n",
       "      <th>max</th>\n",
       "      <td>710000.000000</td>\n",
       "      <td>9.000000</td>\n",
       "      <td>73.000000</td>\n",
       "      <td>8.000000</td>\n",
       "      <td>7.000000</td>\n",
       "      <td>8.000000</td>\n",
       "      <td>8.000000</td>\n",
       "      <td>8.000000</td>\n",
       "      <td>8.00000</td>\n",
       "      <td>581775.000000</td>\n",
       "      <td>...</td>\n",
       "      <td>1.000000</td>\n",
       "      <td>1.000000</td>\n",
       "      <td>1.000000</td>\n",
       "      <td>1.000000</td>\n",
       "      <td>1.000000</td>\n",
       "      <td>1.000000</td>\n",
       "      <td>1.000000</td>\n",
       "      <td>1.000000</td>\n",
       "      <td>0.0</td>\n",
       "      <td>1.000000</td>\n",
       "    </tr>\n",
       "  </tbody>\n",
       "</table>\n",
       "<p>8 rows × 31 columns</p>\n",
       "</div>"
      ],
      "text/plain": [
       "           LIMIT_BAL          SEX          AGE        PAY_0        PAY_2  \\\n",
       "count    2001.000000  2001.000000  2001.000000  2001.000000  2001.000000   \n",
       "mean   137211.394303     8.550725    35.496752     0.635682     0.363818   \n",
       "std    118604.467834     0.497545     9.886259     1.377210     1.525638   \n",
       "min     10000.000000     8.000000    21.000000    -2.000000    -2.000000   \n",
       "25%     50000.000000     8.000000    27.000000     0.000000    -1.000000   \n",
       "50%    100000.000000     9.000000    34.000000     1.000000     0.000000   \n",
       "75%    200000.000000     9.000000    42.000000     2.000000     2.000000   \n",
       "max    710000.000000     9.000000    73.000000     8.000000     7.000000   \n",
       "\n",
       "             PAY_3        PAY_4        PAY_5       PAY_6      BILL_AMT1  ...  \\\n",
       "count  2001.000000  2001.000000  2001.000000  2001.00000    2001.000000  ...   \n",
       "mean      0.333333     0.161919     0.123938     0.06097   48415.934533  ...   \n",
       "std       1.555742     1.473014     1.465821     1.47081   73427.295418  ...   \n",
       "min      -2.000000    -2.000000    -2.000000    -2.00000   -3928.000000  ...   \n",
       "25%      -1.000000    -1.000000    -1.000000    -1.00000    2500.000000  ...   \n",
       "50%       0.000000     0.000000     0.000000     0.00000   20184.000000  ...   \n",
       "75%       2.000000     0.000000     0.000000     0.00000   58143.000000  ...   \n",
       "max       8.000000     8.000000     8.000000     8.00000  581775.000000  ...   \n",
       "\n",
       "              MAR1         MAR2         MAR3          ED1          ED2  \\\n",
       "count  2001.000000  2001.000000  2001.000000  2001.000000  2001.000000   \n",
       "mean      0.468266     0.518741     0.012494     0.341829     0.478261   \n",
       "std       0.499117     0.499774     0.111103     0.474441     0.499652   \n",
       "min       0.000000     0.000000     0.000000     0.000000     0.000000   \n",
       "25%       0.000000     0.000000     0.000000     0.000000     0.000000   \n",
       "50%       0.000000     1.000000     0.000000     0.000000     0.000000   \n",
       "75%       1.000000     1.000000     0.000000     1.000000     1.000000   \n",
       "max       1.000000     1.000000     1.000000     1.000000     1.000000   \n",
       "\n",
       "               ED3          ED4          ED5     ED6  default_pred  \n",
       "count  2001.000000  2001.000000  2001.000000  2001.0   2001.000000  \n",
       "mean      0.177411     0.000500     0.001999     0.0      0.341829  \n",
       "std       0.382112     0.022355     0.044677     0.0      0.474441  \n",
       "min       0.000000     0.000000     0.000000     0.0      0.000000  \n",
       "25%       0.000000     0.000000     0.000000     0.0      0.000000  \n",
       "50%       0.000000     0.000000     0.000000     0.0      0.000000  \n",
       "75%       0.000000     0.000000     0.000000     0.0      1.000000  \n",
       "max       1.000000     1.000000     1.000000     0.0      1.000000  \n",
       "\n",
       "[8 rows x 31 columns]"
      ]
     },
     "execution_count": 46,
     "metadata": {},
     "output_type": "execute_result"
    }
   ],
   "source": [
    "%%time\n",
    "\n",
    "# IMPORT DATA SET\n",
    "df = pd.read_csv(\"validation_dataset.csv\")\n",
    "\n",
    "# DATA WRANGLING\n",
    "df = df.drop(['ID'], axis=1)\n",
    "\n",
    "df2 = df\n",
    "df2['SEX'] = df2['SEX']+7\n",
    "marriage = pd.get_dummies(df2['MARRIAGE'], drop_first=True)\n",
    "marriage.columns = ['MAR1','MAR2','MAR3']\n",
    "\n",
    "## this feature only had values from 2 to 5 this time, so we are accounting for it by adding column 6 with all 0s\n",
    "education = pd.get_dummies(df2['EDUCATION'], drop_first=False)\n",
    "education['6'] = 0\n",
    "education.columns = ['ED1','ED2','ED3','ED4', 'ED5', 'ED6']\n",
    "\n",
    "df2 = pd.concat([df2,marriage,education],axis=1)\n",
    "\n",
    "df2.drop(['MARRIAGE', 'EDUCATION'], axis=1, inplace=True)\n",
    "\n",
    "# DEFINE FEATURES\n",
    "X2 = df2.drop(['default'], axis=1)\n",
    "\n",
    "# PREDICT\n",
    "xgbC_pred = xgbC.predict(X2)              #status\n",
    "xgbC_pred_proba = xgbC.predict_proba(X2)  #probabilities\n",
    "\n",
    "#ADDING PREDICTION TO DATASET\n",
    "X2['default_pred'] = xgbC_pred\n",
    "X2.describe()"
   ]
  },
  {
   "cell_type": "markdown",
   "metadata": {},
   "source": [
    "## Calculating expected portfolio loss\n",
    "#### We have various billing amounts and payment amounts. We will calculate de owed amount by subtracting the sum of payment amounts from the sum of billing amounts.\n",
    "#### Next, we will multiply the owed amount of each client by the probability of going to default. This is the expected loss per client.\n",
    "#### Finally, we will add all these expected losses to get the expected loss of the portfolio (validation dataset)\n",
    "#### The final amount units assume we are working with cents."
   ]
  },
  {
   "cell_type": "code",
   "execution_count": 47,
   "metadata": {},
   "outputs": [
    {
     "name": "stdout",
     "output_type": "stream",
     "text": [
      "Assuming that we are using our model in order to predict which of these current clients (in the validation dataset) will go to default, we are expected to lose USD 2050699.5\n"
     ]
    }
   ],
   "source": [
    "X2['BILL_SUM'] = X2['BILL_AMT1'] + X2['BILL_AMT2'] + X2['BILL_AMT3'] + X2['BILL_AMT4'] + X2['BILL_AMT5'] + X2['BILL_AMT6']\n",
    "X2['PAY_SUM'] = X2['PAY_AMT1'] + X2['PAY_AMT2'] + X2['PAY_AMT3'] + X2['PAY_AMT4'] + X2['PAY_AMT5'] + X2['PAY_AMT6']\n",
    "X2['OWED_AMT'] = X2['BILL_SUM'] - X2['PAY_SUM']\n",
    "\n",
    "expected_loss = []\n",
    "for i in range(len(X2)):\n",
    "    expected_loss.append(X2['OWED_AMT'][i]*xgbC_pred_proba[i][1])    \n",
    "print('Assuming that we are using our model in order to predict which of these current clients (in the validation dataset) will go to default, we are expected to lose USD',\n",
    "       round(sum(expected_loss)/100,2))"
   ]
  }
 ],
 "metadata": {
  "kernelspec": {
   "display_name": "Python 3",
   "language": "python",
   "name": "python3"
  },
  "language_info": {
   "codemirror_mode": {
    "name": "ipython",
    "version": 3
   },
   "file_extension": ".py",
   "mimetype": "text/x-python",
   "name": "python",
   "nbconvert_exporter": "python",
   "pygments_lexer": "ipython3",
   "version": "3.7.6"
  }
 },
 "nbformat": 4,
 "nbformat_minor": 4
}
